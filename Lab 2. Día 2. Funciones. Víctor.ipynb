{
 "cells": [
  {
   "cell_type": "markdown",
   "id": "25d7736c-ba17-4aff-b6bb-66eba20fbf4e",
   "metadata": {},
   "source": [
    "# Lab | Functions"
   ]
  },
  {
   "cell_type": "markdown",
   "id": "0c581062-8967-4d93-b06e-62833222f930",
   "metadata": {
    "tags": []
   },
   "source": [
    "## Exercise: Managing Customer Orders with Functions\n",
    "\n",
    "In the previous exercise, you improved the code for managing customer orders by using loops and flow control. Now, let's take it a step further and refactor the code by introducing functions.\n",
    "\n",
    "Follow the steps below to complete the exercise:\n",
    "\n",
    "1. Define a function named `initialize_inventory` that takes `products` as a parameter. Inside the function, implement the code for initializing the inventory dictionary using a loop and user input.\n",
    "\n",
    "2. Define a function named `get_customer_orders` that takes no parameters. Inside the function, implement the code for prompting the user to enter the product names using a loop. The function should return the `customer_orders` set.\n",
    "\n",
    "3. Define a function named `update_inventory` that takes `customer_orders` and `inventory` as parameters. Inside the function, implement the code for updating the inventory dictionary based on the customer orders.\n",
    "\n",
    "4. Define a function named `calculate_order_statistics` that takes `customer_orders` and `products` as parameters. Inside the function, implement the code for calculating the order statistics (total products ordered, and percentage of unique products ordered). The function should return these values.\n",
    "\n",
    "5. Define a function named `print_order_statistics` that takes `order_statistics` as a parameter. Inside the function, implement the code for printing the order statistics.\n",
    "\n",
    "6. Define a function named `print_updated_inventory` that takes `inventory` as a parameter. Inside the function, implement the code for printing the updated inventory.\n",
    "\n",
    "7. Call the functions in the appropriate sequence to execute the program and manage customer orders.\n",
    "\n",
    "Hints for functions:\n",
    "\n",
    "- Consider the input parameters required for each function and their return values.\n",
    "- Utilize function parameters and return values to transfer data between functions.\n",
    "- Test your functions individually to ensure they work correctly.\n",
    "\n",
    "\n"
   ]
  },
  {
   "cell_type": "code",
   "execution_count": null,
   "id": "5060b5d5",
   "metadata": {},
   "outputs": [],
   "source": [
    "## 1.Define a function named initialize_inventory that takes products as a parameter. \n",
    "#Inside the function, implement the code for initializing the inventory dictionary using a loop and user input.\n",
    "productos=[\"camiseta\", \"taza\", \"sombrero\", \"libro\", \"llavero\"]\n",
    "inventario={}\n",
    "def initialize_inventory():\n",
    "    for product in productos:\n",
    "        inventario[product] = int(input(\"que cantidad de \" + product + \" hay disponible: \"))\n",
    "\n",
    "\n",
    "\n",
    "initialize_inventory()\n",
    "\n"
   ]
  },
  {
   "cell_type": "code",
   "execution_count": null,
   "id": "28e6fc63",
   "metadata": {},
   "outputs": [],
   "source": [
    "#no entiendo el porqué, pero si elimino esta linea la parte inferior deja de funcionar.\n",
    "print(inventario)"
   ]
  },
  {
   "cell_type": "code",
   "execution_count": null,
   "id": "8d0078bc",
   "metadata": {},
   "outputs": [],
   "source": [
    "inventario"
   ]
  },
  {
   "cell_type": "code",
   "execution_count": null,
   "id": "a1053a44",
   "metadata": {},
   "outputs": [],
   "source": [
    "#2.Define a function named get_customer_orders that takes no parameters. Inside the function, implement the code for prompting the user to enter the product names using a loop. The function should return the customer_orders set.\n",
    "customer_order=[]\n",
    "def get_customer_orders():\n",
    "    for i in range(sum(inventario.values())):\n",
    "        pedido=input('Elige un producto: ')\n",
    "        if pedido in productos:\n",
    "            customer_order.append(pedido)\n",
    "            \n",
    "        repe1=input('¿Otra cosa?\"si\" o \"no\": ')\n",
    "        if repe1== 'no':\n",
    "               break\n",
    "\n",
    "get_customer_orders()\n",
    "\n",
    "print(customer_order)\n",
    "\n"
   ]
  },
  {
   "cell_type": "code",
   "execution_count": null,
   "id": "02dfe6c4",
   "metadata": {},
   "outputs": [],
   "source": [
    "#3.Define a function named update_inventory that takes customer_orders and inventory as parameters. Inside the function, implement the code for updating the inventory dictionary based on the customer orders.\n",
    "def update_inventory(customer_order, inventario):\n",
    "    for pedido in customer_order:\n",
    "        if pedido in inventario:\n",
    "            inventario[pedido]-=1\n",
    "    print(inventario)\n",
    "        \n",
    "\n",
    "update_inventory(customer_order, inventario)\n",
    "\n"
   ]
  },
  {
   "cell_type": "code",
   "execution_count": null,
   "id": "4ac64bbb",
   "metadata": {},
   "outputs": [],
   "source": [
    "#4.Define a function named calculate_order_statistics that takes customer_orders and products as parameters. Inside the function, implement the code for calculating the order statistics (total products ordered, and percentage of unique products ordered). The function should return these values.\n",
    "\n",
    "def order_statistics (customer_order, productos):\n",
    "    print('El cliente ha pedido un total de', len(customer_order),' producto/s')\n",
    "    total_inventario=sum(inventario.values())\n",
    "    for producto in customer_order:\n",
    "        cantidad_productos_unicos=customer_order.count(producto)\n",
    "    porcentaje_pedido=len(customer_order)*100/(total_inventario+len(customer_order))\n",
    "    porcentaje_redondeado=round(porcentaje_pedido,2)\n",
    "    print('El porcentaje del pedido sobre el total del inventario es:', porcentaje_redondeado,'%')\n",
    "    print('Se ha ordenado', cantidad_productos_unicos, producto)\n",
    "\n",
    "order_statistics (customer_order, productos)\n",
    "    "
   ]
  },
  {
   "cell_type": "code",
   "execution_count": null,
   "id": "f607c1a4",
   "metadata": {},
   "outputs": [],
   "source": [
    "#5.Define a function named print_order_statistics that takes order_statistics as a parameter. Inside the function, implement the code for printing the order statistics.\n",
    "def print_order_statistics (order_statistics)\n"
   ]
  },
  {
   "cell_type": "code",
   "execution_count": null,
   "id": "e6bfd96e",
   "metadata": {},
   "outputs": [],
   "source": [
    "#6.Define a function named print_updated_inventory that takes inventory as a parameter. Inside the function, implement the code for printing the updated inventory.\n",
    "\n"
   ]
  },
  {
   "cell_type": "code",
   "execution_count": null,
   "id": "c887f147",
   "metadata": {
    "scrolled": true
   },
   "outputs": [],
   "source": [
    "#7.Call the functions in the appropriate sequence to execute the program and manage customer orders\n",
    "initialize_inventory()\n",
    "get_customer_orders()\n",
    "update_inventory(customer_order, inventario)\n",
    "order_statistics (customer_order, productos)"
   ]
  },
  {
   "cell_type": "markdown",
   "id": "947fa19b",
   "metadata": {},
   "source": [
    "### Debugging"
   ]
  },
  {
   "cell_type": "code",
   "execution_count": 1,
   "id": "2164e247",
   "metadata": {},
   "outputs": [],
   "source": [
    "productos=[\"camiseta\", \"taza\", \"sombrero\", \"libro\", \"llavero\"]\n",
    "inventario={}\n",
    "customer_order=[]"
   ]
  },
  {
   "cell_type": "code",
   "execution_count": 2,
   "id": "bba8c8ec",
   "metadata": {},
   "outputs": [],
   "source": [
    "def initialize_inventory():\n",
    "    for product in productos:\n",
    "        inventario[product] = int(input(\"que cantidad de \" + product + \" hay disponible: \"))\n",
    "\n",
    "def get_customer_orders():\n",
    "    for i in range(sum(inventario.values())):\n",
    "        pedido=input('Elige un producto: ')\n",
    "        if pedido in productos:\n",
    "            customer_order.append(pedido)\n",
    "            \n",
    "        repe1=input('¿Otra cosa?\"si\" o \"no\": ')\n",
    "        if repe1== 'no':\n",
    "               break\n",
    "\n",
    "def update_inventory(customer_order, inventario):\n",
    "    for pedido in customer_order:\n",
    "        if pedido in inventario:\n",
    "            inventario[pedido]-=1\n",
    "    print(inventario)\n",
    "    \n",
    "def order_statistics (customer_order, productos):\n",
    "    print('El cliente ha pedido un total de', len(customer_order),' producto/s')\n",
    "    total_inventario=sum(inventario.values())\n",
    "    for producto in customer_order:\n",
    "        cantidad_productos_unicos=customer_order.count(producto)\n",
    "    porcentaje_pedido=len(customer_order)*100/(total_inventario+len(customer_order))\n",
    "    porcentaje_redondeado=round(porcentaje_pedido,2)\n",
    "    print('El porcentaje del pedido sobre el total del inventario es:', porcentaje_redondeado,'%')\n",
    "    print('Se ha ordenado', cantidad_productos_unicos, producto)"
   ]
  },
  {
   "cell_type": "code",
   "execution_count": 4,
   "id": "75927297",
   "metadata": {
    "scrolled": false
   },
   "outputs": [
    {
     "name": "stdout",
     "output_type": "stream",
     "text": [
      "que cantidad de camiseta hay disponible: 4\n",
      "que cantidad de taza hay disponible: 5\n",
      "que cantidad de sombrero hay disponible: 8\n",
      "que cantidad de libro hay disponible: 7\n",
      "que cantidad de llavero hay disponible: 6\n"
     ]
    }
   ],
   "source": [
    "initialize_inventory()"
   ]
  },
  {
   "cell_type": "code",
   "execution_count": 5,
   "id": "587688e3",
   "metadata": {},
   "outputs": [
    {
     "name": "stdout",
     "output_type": "stream",
     "text": [
      "Elige un producto: taza\n",
      "¿Otra cosa?\"si\" o \"no\": no\n"
     ]
    }
   ],
   "source": [
    "get_customer_orders()"
   ]
  },
  {
   "cell_type": "code",
   "execution_count": 6,
   "id": "a661091c",
   "metadata": {},
   "outputs": [
    {
     "name": "stdout",
     "output_type": "stream",
     "text": [
      "{'camiseta': 4, 'taza': 4, 'sombrero': 8, 'libro': 7, 'llavero': 6}\n"
     ]
    }
   ],
   "source": [
    "update_inventory(customer_order, inventario)"
   ]
  },
  {
   "cell_type": "code",
   "execution_count": 7,
   "id": "133814be",
   "metadata": {},
   "outputs": [
    {
     "name": "stdout",
     "output_type": "stream",
     "text": [
      "El cliente ha pedido un total de 1  producto/s\n",
      "El porcentaje del pedido sobre el total del inventario es: 3.33 %\n",
      "Se ha ordenado 1 taza\n"
     ]
    }
   ],
   "source": [
    "order_statistics (customer_order, productos)"
   ]
  },
  {
   "cell_type": "code",
   "execution_count": null,
   "id": "f4811aed",
   "metadata": {},
   "outputs": [],
   "source": []
  }
 ],
 "metadata": {
  "kernelspec": {
   "display_name": "Python 3 (ipykernel)",
   "language": "python",
   "name": "python3"
  },
  "language_info": {
   "codemirror_mode": {
    "name": "ipython",
    "version": 3
   },
   "file_extension": ".py",
   "mimetype": "text/x-python",
   "name": "python",
   "nbconvert_exporter": "python",
   "pygments_lexer": "ipython3",
   "version": "3.11.5"
  }
 },
 "nbformat": 4,
 "nbformat_minor": 5
}
